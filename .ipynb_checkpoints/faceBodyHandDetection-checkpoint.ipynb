{
 "cells": [
  {
   "cell_type": "code",
   "execution_count": 1,
   "id": "c110724e-acec-4044-9ed1-393ea431bac2",
   "metadata": {},
   "outputs": [],
   "source": [
    "# pip install mediapipe"
   ]
  },
  {
   "cell_type": "code",
   "execution_count": 1,
   "id": "c93b58ed-7de2-4f25-9dc1-b91262d5820f",
   "metadata": {},
   "outputs": [],
   "source": [
    "import mediapipe as mp\n",
    "import cv2"
   ]
  },
  {
   "cell_type": "code",
   "execution_count": 2,
   "id": "13cf7046-a8f9-42d4-bed3-bc9b0682e66e",
   "metadata": {},
   "outputs": [],
   "source": [
    "mp_drawing=mp.solutions.drawing_utils\n",
    "mp_holistic=mp.solutions.holistic"
   ]
  },
  {
   "cell_type": "code",
   "execution_count": 3,
   "id": "1ebbfc4a-f72d-4507-95ab-3171f469f493",
   "metadata": {
    "scrolled": true,
    "tags": []
   },
   "outputs": [],
   "source": [
    "cap=cv2.VideoCapture(0)\n",
    "\n",
    "holistic=mp_holistic.Holistic(min_detection_confidence=0.5,min_tracking_confidence=0.5)\n",
    "\n",
    "while cap.isOpened():\n",
    "    ret,frame=cap.read()\n",
    "    \n",
    "    image=cv2.cvtColor(frame,cv2.COLOR_BGR2RGB)\n",
    "    \n",
    "    results=holistic.process(image)\n",
    "    # print(results.face_landmarks) #pose_landmarks,#left_hand_landmarks,right_hand_landmarks\n",
    "    \n",
    "    #recolor image for bgr rendering\n",
    "    image=cv2.cvtColor(image,cv2.COLOR_RGB2BGR) \n",
    "    \n",
    "    #face landmarks\n",
    "    mp_drawing.draw_landmarks(image,results.face_landmarks,mp_holistic.FACEMESH_CONTOURS,mp_drawing.DrawingSpec(color=(255,0,0),thickness=2,circle_radius=4),\n",
    "                              mp_drawing.DrawingSpec(color=(200,0,0),thickness=2,circle_radius=4))\n",
    "    \n",
    "    #right hand landmarks\n",
    "    mp_drawing.draw_landmarks(image,results.right_hand_landmarks,mp_holistic.HAND_CONNECTIONS)\n",
    "    \n",
    "    #left hand landmarks\n",
    "    mp_drawing.draw_landmarks(image,results.left_hand_landmarks,mp_holistic.HAND_CONNECTIONS)\n",
    "    \n",
    "    #pose landmarks\n",
    "    mp_drawing.draw_landmarks(image,results.pose_landmarks,mp_holistic.POSE_CONNECTIONS)\n",
    "    \n",
    "    cv2.imshow(\"frame\",image)\n",
    "    if cv2.waitKey(1) & 0xFF==ord('q'):\n",
    "        break\n",
    "cap.release()\n",
    "cv2.destroyAllWindows()"
   ]
  },
  {
   "cell_type": "code",
   "execution_count": null,
   "id": "31586316-c5fd-4a13-8e94-9d282ac0ae98",
   "metadata": {},
   "outputs": [],
   "source": []
  }
 ],
 "metadata": {
  "kernelspec": {
   "display_name": "Python 3 (ipykernel)",
   "language": "python",
   "name": "python3"
  },
  "language_info": {
   "codemirror_mode": {
    "name": "ipython",
    "version": 3
   },
   "file_extension": ".py",
   "mimetype": "text/x-python",
   "name": "python",
   "nbconvert_exporter": "python",
   "pygments_lexer": "ipython3",
   "version": "3.10.8"
  }
 },
 "nbformat": 4,
 "nbformat_minor": 5
}
