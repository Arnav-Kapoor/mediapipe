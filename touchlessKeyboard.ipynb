{
 "cells": [
  {
   "cell_type": "code",
   "execution_count": 1,
   "id": "cd4fae82-0104-4b50-869c-e9d503da1167",
   "metadata": {},
   "outputs": [],
   "source": [
    "import cv2\n",
    "import mediapipe\n",
    "import numpy as np"
   ]
  },
  {
   "cell_type": "code",
   "execution_count": 2,
   "id": "1c386bf6-e423-4d4a-a42e-fe0b32999097",
   "metadata": {},
   "outputs": [],
   "source": [
    "from time import sleep"
   ]
  },
  {
   "cell_type": "code",
   "execution_count": 3,
   "id": "4bb7291a-e1d2-43c6-b58d-d669d61ed088",
   "metadata": {},
   "outputs": [],
   "source": [
    "import keyboard"
   ]
  },
  {
   "cell_type": "markdown",
   "id": "0c4acd03-d41a-445c-8b59-99165eaf1c1d",
   "metadata": {},
   "source": [
    "### Detecting Hand"
   ]
  },
  {
   "cell_type": "code",
   "execution_count": 4,
   "id": "28fb53fb-529e-4b9e-83fa-89f170a146c8",
   "metadata": {},
   "outputs": [],
   "source": [
    "mp_hands=mediapipe.solutions.hands\n",
    "mp_draw=mediapipe.solutions.drawing_utils"
   ]
  },
  {
   "cell_type": "code",
   "execution_count": 83,
   "id": "0099b199-f581-4b0d-8403-cf827bfe9def",
   "metadata": {},
   "outputs": [],
   "source": [
    "# cap=cv2.VideoCapture(0)\n",
    "\n",
    "# hands=mp_hands.Hands(min_detection_confidence=0.5,min_tracking_confidence=0.5)\n",
    "\n",
    "# while cap.isOpened():\n",
    "#     ret,frame=cap.read()\n",
    "    \n",
    "#     image=cv2.cvtColor(frame,cv2.COLOR_RGB2BGR)\n",
    "#     image=cv2.flip(image,1)\n",
    "#     results=hands.process(image)\n",
    "#     image=cv2.cvtColor(image,cv2.COLOR_BGR2RGB)\n",
    "    \n",
    "#     if results.multi_hand_landmarks:\n",
    "#         for num,hand in enumerate(results.multi_hand_landmarks):\n",
    "#             mp_draw.draw_landmarks(image,hand,mp_hands.HAND_CONNECTIONS,\n",
    "#                                    mp_draw.DrawingSpec(color=(121, 22, 76), thickness=2, circle_radius=4),\n",
    "#                                      mp_draw.DrawingSpec(color=(250, 44, 250), thickness=2, circle_radius=2))\n",
    "        \n",
    "#     cv2.imshow(\"hands\",image)\n",
    "    \n",
    "#     if cv2.waitKey(1) & 0xFF==ord('q'):\n",
    "#         break\n",
    "        \n",
    "# cap.release()\n",
    "# cv2.destroyAllWindows()"
   ]
  },
  {
   "cell_type": "markdown",
   "id": "f65e2f49-6049-4f41-b029-c1223d0f600a",
   "metadata": {},
   "source": [
    "### building keyboard"
   ]
  },
  {
   "cell_type": "code",
   "execution_count": 104,
   "id": "97d4983b-220e-4a73-a2af-bbc8e02a80c3",
   "metadata": {},
   "outputs": [],
   "source": [
    "keys=[['1', '2', '3', '4', '5', '6' ,'7', '8', '9', '0'], \n",
    "      ['Q', 'W', 'E', 'R', 'T', 'Y', 'U', 'I', 'O', 'P'],\n",
    "      ['A', 'S', 'D', 'F', 'G', 'H', 'J', 'K', 'L','?'],\n",
    "      ['Z', 'X', 'C', 'V', 'B', 'N', 'M', '.','space','backspace']]"
   ]
  },
  {
   "cell_type": "code",
   "execution_count": 6,
   "id": "d774bb2f-d411-4031-a777-b72c15e4bf7f",
   "metadata": {},
   "outputs": [],
   "source": [
    "buttons={}"
   ]
  },
  {
   "cell_type": "markdown",
   "id": "52012cbc-7118-42bb-b823-9b48756e745c",
   "metadata": {},
   "source": [
    "#### building a keyboard on image"
   ]
  },
  {
   "cell_type": "code",
   "execution_count": 110,
   "id": "ccbe90ca-2e59-4be8-b047-610025a3388f",
   "metadata": {},
   "outputs": [],
   "source": [
    "def build_keys(image,keys,itr=0,itr2=0,p1=[30,30],p2=[80,80]):\n",
    "    if itr2==10:\n",
    "        p1[0]=30\n",
    "        p2[0]=80\n",
    "        p1[1]+=60\n",
    "        p2[1]+=60\n",
    "        itr+=1\n",
    "        itr2=0\n",
    "        \n",
    "    if itr<len(keys):\n",
    "        \n",
    "        if keys[itr][itr2]=='space':\n",
    "            text='spc'\n",
    "        elif keys[itr][itr2]=='backspace':\n",
    "            text='bksp'\n",
    "        else:\n",
    "            text=keys[itr][itr2]\n",
    "            \n",
    "        cv2.rectangle(image,(p1[0],p1[1]),(p2[0],p2[1]),(150,100,50),cv2.FILLED)\n",
    "        cv2.putText(image,text,(p1[0]+10,p2[1]-10),cv2.FONT_HERSHEY_SIMPLEX,0.5,(255,255,255),2)\n",
    "        \n",
    "        \n",
    "        text=keys[itr][itr2]\n",
    "        buttons[text]=[p1[0],p1[1]] ## x,y\n",
    "\n",
    "        return build_keys(image,keys,itr,itr2+1,[p1[0]+60,p1[1]],[p2[0]+60,p2[1]])\n",
    "    else:\n",
    "        return image"
   ]
  },
  {
   "cell_type": "markdown",
   "id": "68148221-06e6-4d23-a6be-de0ea84e4be5",
   "metadata": {},
   "source": [
    "#### getting the coordinates of index and middle finger tip"
   ]
  },
  {
   "cell_type": "code",
   "execution_count": 8,
   "id": "372b5587-7e5d-4046-a022-946fe75725f2",
   "metadata": {},
   "outputs": [],
   "source": [
    "def get_coords(hands,results):\n",
    "    coords=None\n",
    "    for idx,classification in enumerate(results.multi_handedness):\n",
    "        index=list(np.multiply(np.array((hand.landmark[mp_hands.HandLandmark.INDEX_FINGER_TIP].x,\n",
    "                                           hand.landmark[mp_hands.HandLandmark.INDEX_FINGER_TIP].y)),[640,480]).astype(int))\n",
    "\n",
    "        middle=list(np.multiply(np.array((hand.landmark[mp_hands.HandLandmark.MIDDLE_FINGER_TIP].x,\n",
    "                                           hand.landmark[mp_hands.HandLandmark.MIDDLE_FINGER_TIP].y)),[640,480]).astype(int))\n",
    "        coords=[index,middle]\n",
    "    return coords"
   ]
  },
  {
   "cell_type": "markdown",
   "id": "90bc8d65-9327-4a82-832f-d61649461f53",
   "metadata": {},
   "source": [
    "#### finding the nearest key of keyboard corresponding to finger position"
   ]
  },
  {
   "cell_type": "code",
   "execution_count": 82,
   "id": "1cbc9b77-92a7-45d1-96da-3539236d9d84",
   "metadata": {},
   "outputs": [],
   "source": [
    "def identify_point_key(point,buttons,keys):\n",
    "    x=point[0]\n",
    "    y=point[1]\n",
    "    ans=None\n",
    "    \n",
    "    temp_x=0\n",
    "    temp_y=0\n",
    "    \n",
    "    for key,val in buttons.items():\n",
    "        if y > val[1] and val[1]>temp_y:  ### updating value of temp_y if y of point is greater than y coord of key\n",
    "            temp_y=val[1]\n",
    "            \n",
    "        if x > val[0] and val[0] > temp_x: ### updating value of temp_x if x of point is greater than x coord of key\n",
    "            temp_x=val[0]\n",
    "    \n",
    "            \n",
    "    for key,val in buttons.items():\n",
    "        if [temp_x,temp_y]==val:\n",
    "            ans=key\n",
    "    \n",
    "    return ans,[temp_x,temp_y]"
   ]
  },
  {
   "cell_type": "markdown",
   "id": "cb78ab87-5b6d-409d-b0ce-430cfadecd51",
   "metadata": {},
   "source": [
    "#### checking if key is selected"
   ]
  },
  {
   "cell_type": "code",
   "execution_count": 81,
   "id": "d1c513ca-5a62-46b7-a407-dcb29a3f7572",
   "metadata": {},
   "outputs": [],
   "source": [
    "def isClicked(result,hand):\n",
    "    index=0\n",
    "    for idx,classification in enumerate(results.multi_handedness):\n",
    "        if classification.classification[0].index==0:\n",
    "            index=0\n",
    "        else:\n",
    "            index=1\n",
    "        tip=np.multiply(hand.landmark[mp_hands.HandLandmark.THUMB_TIP].x,640) ### tip of thumb\n",
    "        mcp=np.multiply(hand.landmark[mp_hands.HandLandmark.INDEX_FINGER_MCP].x,640) ### mcp of index finger\n",
    "    \n",
    "    if tip>=mcp and index==1: ### right hand\n",
    "        return True\n",
    "    if tip<=mcp and index==0: ### left hand\n",
    "        return True\n",
    "    else:\n",
    "        return False"
   ]
  },
  {
   "cell_type": "code",
   "execution_count": 111,
   "id": "3e9de4a4-cae4-4c8d-a62b-592ff8c92398",
   "metadata": {
    "scrolled": true,
    "tags": []
   },
   "outputs": [],
   "source": [
    "text=\"\"\n",
    "cap=cv2.VideoCapture(0)\n",
    "\n",
    "hands=mp_hands.Hands(min_detection_confidence=0.5,min_tracking_confidence=0.5)\n",
    "\n",
    "while cap.isOpened():\n",
    "    ret,frame=cap.read()\n",
    "    \n",
    "    image=cv2.cvtColor(frame,cv2.COLOR_RGB2BGR)\n",
    "    image=cv2.flip(image,1)\n",
    "    results=hands.process(image)\n",
    "    image=cv2.cvtColor(image,cv2.COLOR_BGR2RGB)\n",
    "    \n",
    "    \n",
    "    build_keys(image,keys)\n",
    "    # cv2.rectangle(image,(30,270),(570,340),(150,100,50),cv2.FILLED)\n",
    "    \n",
    "    if results.multi_hand_landmarks:\n",
    "        for num,hand in enumerate(results.multi_hand_landmarks):\n",
    "            mp_draw.draw_landmarks(image,hand,mp_hands.HAND_CONNECTIONS,\n",
    "                                   mp_draw.DrawingSpec(color=(121, 22, 76), thickness=2, circle_radius=4),\n",
    "                                     mp_draw.DrawingSpec(color=(250, 44, 250), thickness=2, circle_radius=2))\n",
    "            \n",
    "            if get_coords(hand,results):\n",
    "                coords=get_coords(hand,results)\n",
    "                # print(coords[0])\n",
    "                index=coords[0]\n",
    "                middle=coords[1]\n",
    "                x1,y1,x2,y2=index[0],index[1],middle[0],middle[1]\n",
    "                point=[(x1+x2)//2,(y1+y2)//2] ### finding midpoint of index and middle finger tip\n",
    "                cv2.circle(image,point,10,(0,0,255),cv2.FILLED)\n",
    "                # print(point)\n",
    "                \n",
    "                ans,pos=identify_point_key(point,buttons,keys)\n",
    "                if ans:\n",
    "                    # print(pos,ans)\n",
    "                    cv2.rectangle(image,(pos[0],pos[1]),(pos[0]+50,pos[1]+50),(0,0,255),cv2.FILLED)\n",
    "                \n",
    "                if isClicked(results,hand): \n",
    "                    \n",
    "                    cv2.rectangle(image,(pos[0],pos[1]),(pos[0]+50,pos[1]+50),(0,255,0),cv2.FILLED)\n",
    "                    # sleep(0.1)\n",
    "                    # print(ans)\n",
    "                    if ans and('A'<=ans<='Z' or '0'<=ans<='9'):\n",
    "                        sleep(0.15)\n",
    "                        keyboard.write(ans) ## for alphabets and numbers\n",
    "                    else:\n",
    "                        if ans:\n",
    "                            sleep(0.15)\n",
    "                            keyboard.press_and_release(ans) ## for keys like space, enter, backspace\n",
    "        # cv2.putText(image,text,(50,310),cv2.FONT_HERSHEY_PLAIN,2,(255,255,255),2)\n",
    "        \n",
    "    cv2.imshow(\"hands\",image)\n",
    "    \n",
    "    if cv2.waitKey(1) & 0xFF==ord('q'):\n",
    "        break\n",
    "        \n",
    "cap.release()\n",
    "\n",
    "cv2.destroyAllWindows()"
   ]
  },
  {
   "cell_type": "code",
   "execution_count": 77,
   "id": "12b98eeb-7825-4ee2-adb0-7f0d96fc5d6f",
   "metadata": {
    "tags": []
   },
   "outputs": [],
   "source": [
    "# cap.release()\n",
    "# cv2.destroyAllWindows()"
   ]
  },
  {
   "cell_type": "code",
   "execution_count": 12,
   "id": "3eed9a2b-7b8d-4731-b8ae-20aca2ea7714",
   "metadata": {},
   "outputs": [
    {
     "data": {
      "text/plain": [
       "([90, 90], [30, 30])"
      ]
     },
     "execution_count": 12,
     "metadata": {},
     "output_type": "execute_result"
    }
   ],
   "source": [
    "buttons['Q'],buttons['1']"
   ]
  },
  {
   "cell_type": "code",
   "execution_count": 13,
   "id": "7cdcdba3-48ae-4f5e-a40a-9dbfc025477e",
   "metadata": {},
   "outputs": [
    {
     "data": {
      "text/plain": [
       "{'1': [30, 30],\n",
       " '2': [90, 30],\n",
       " '3': [150, 30],\n",
       " '4': [210, 30],\n",
       " '5': [270, 30],\n",
       " '6': [330, 30],\n",
       " '7': [390, 30],\n",
       " '8': [450, 30],\n",
       " '9': [510, 30],\n",
       " '0': [30, 90],\n",
       " 'Q': [90, 90],\n",
       " 'W': [150, 90],\n",
       " 'E': [210, 90],\n",
       " 'R': [270, 90],\n",
       " 'T': [330, 90],\n",
       " 'Y': [390, 90],\n",
       " 'U': [450, 90],\n",
       " 'I': [510, 90],\n",
       " 'O': [570, 90],\n",
       " 'P': [30, 150],\n",
       " 'A': [90, 150],\n",
       " 'S': [150, 150],\n",
       " 'D': [210, 150],\n",
       " 'F': [270, 150],\n",
       " 'G': [330, 150],\n",
       " 'H': [390, 150],\n",
       " 'J': [450, 150],\n",
       " 'K': [510, 150],\n",
       " 'L': [570, 150],\n",
       " '?': [30, 210],\n",
       " 'Z': [90, 210],\n",
       " 'X': [150, 210],\n",
       " 'C': [210, 210],\n",
       " 'V': [270, 210],\n",
       " 'B': [330, 210],\n",
       " 'N': [390, 210],\n",
       " 'M': [450, 210],\n",
       " '.': [510, 210],\n",
       " 'space': [570, 210],\n",
       " 'backspace': [30, 270]}"
      ]
     },
     "execution_count": 13,
     "metadata": {},
     "output_type": "execute_result"
    }
   ],
   "source": [
    "buttons"
   ]
  },
  {
   "cell_type": "code",
   "execution_count": null,
   "id": "e04e470f-88b0-41da-8f19-1322604f2ef6",
   "metadata": {},
   "outputs": [],
   "source": []
  }
 ],
 "metadata": {
  "kernelspec": {
   "display_name": "Python 3 (ipykernel)",
   "language": "python",
   "name": "python3"
  },
  "language_info": {
   "codemirror_mode": {
    "name": "ipython",
    "version": 3
   },
   "file_extension": ".py",
   "mimetype": "text/x-python",
   "name": "python",
   "nbconvert_exporter": "python",
   "pygments_lexer": "ipython3",
   "version": "3.10.8"
  }
 },
 "nbformat": 4,
 "nbformat_minor": 5
}
